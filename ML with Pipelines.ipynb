{
 "cells": [
  {
   "cell_type": "code",
   "execution_count": 5,
   "metadata": {},
   "outputs": [],
   "source": [
    "from sklearn.preprocessing import StandardScaler, OneHotEncoder, LabelEncoder, LabelBinarizer,MultiLabelBinarizer\n",
    "from sklearn.pipeline import Pipeline\n",
    "from sklearn.compose import ColumnTransformer\n",
    "from sklearn.model_selection import train_test_split, GridSearchCV\n",
    "from sklearn.linear_model import LogisticRegression\n",
    "from sklearn import svm\n",
    "from sklearn.model_selection import cross_val_score\n",
    "import pickle\n",
    "import pandas as pd"
   ]
  },
  {
   "cell_type": "code",
   "execution_count": 136,
   "metadata": {},
   "outputs": [
    {
     "data": {
      "text/plain": [
       "age                    37\n",
       "job          entrepreneur\n",
       "marital           married\n",
       "education       secondary\n",
       "default                no\n",
       "balance              2971\n",
       "housing                no\n",
       "loan                   no\n",
       "contact          cellular\n",
       "day                    17\n",
       "month                 nov\n",
       "duration              361\n",
       "campaign                2\n",
       "pdays                 188\n",
       "previous               11\n",
       "poutcome            other\n",
       "Name: 45210, dtype: object"
      ]
     },
     "execution_count": 136,
     "metadata": {},
     "output_type": "execute_result"
    }
   ],
   "source": [
    "data = pd.read_csv(\"data/bank-full.csv\", sep=\";\")\n",
    "single_instance = data.drop(\"y\",axis=1).iloc[-1]\n",
    "single_instance"
   ]
  },
  {
   "cell_type": "code",
   "execution_count": 34,
   "metadata": {},
   "outputs": [],
   "source": [
    "# We create the preprocessing pipelines for both numeric and categorical data.\n",
    "# numeric_features = [\"age\",\"balance\",\"day\",\"duration\",\"campaign\",\"pdays\",\"previous\"]\n",
    "# categorical_features = set(data.columns) - set(numeric_features)\n",
    "\n",
    "numeric_features= list(data.columns[data.dtypes == 'float64'])\n",
    "#numeric_feat_index = [data.columns.get_loc(c) for c in numeric_features]\n",
    "\n",
    "categorical_features = list(data.columns[data.dtypes == 'object'])\n",
    "#categorical_feat_index = [data.columns.get_loc(c) for c in categorical_features]\n",
    "\n",
    "\n",
    "\n",
    "numeric_transformer = Pipeline(steps=[\n",
    "    ('scaler', StandardScaler())\n",
    "])\n",
    "\n",
    "categorical_transformer = Pipeline(steps=[\n",
    "    ('onehot', OneHotEncoder())\n",
    "])\n",
    "\n",
    "preprocessor = ColumnTransformer(\n",
    "    transformers=[\n",
    "        ('num', numeric_transformer, numeric_features),\n",
    "        ('cat', categorical_transformer, categorical_features[:-1])])\n",
    "\n",
    "# Append classifier to preprocessing pipeline.\n",
    "# Now we have a full prediction pipeline.\n",
    "clf = Pipeline(steps=[('preprocessor', preprocessor),\n",
    "                      ('classifier', svm.SVC(C=1, cache_size=200, class_weight=\"balanced\", coef0=0.0,\n",
    "                                      decision_function_shape='ovr', degree=3, gamma='scale', kernel='linear',\n",
    "                                      max_iter=-1, probability=True, random_state=None, shrinking=True,\n",
    "                                      tol=0.001, verbose=False))])\n",
    "\n"
   ]
  },
  {
   "cell_type": "code",
   "execution_count": 35,
   "metadata": {},
   "outputs": [
    {
     "name": "stdout",
     "output_type": "stream",
     "text": [
      "model score: 0.700\n"
     ]
    }
   ],
   "source": [
    "X = data.drop('y', axis=1)\n",
    "y = data['y']\n",
    "\n",
    "numeric_features= list(data.columns[data.dtypes == 'int64'])\n",
    "X[numeric_features] = X[numeric_features].astype(float)\n",
    "\n",
    "#X = X[list(data.columns[data.dtypes == 'int64'])].apply(pd.to_numeric) #tranform ints to float to remove the transformation warnings\n",
    "\n",
    "\n",
    "X_train, X_test, y_train, y_test = train_test_split(X, y, test_size=0.2,stratify=y)\n",
    "clf.fit(X_train, y_train)\n",
    "print(\"model score: %.3f\" % clf.score(X_test, y_test))"
   ]
  }
 ],
 "metadata": {
  "kernelspec": {
   "display_name": "Python 3",
   "language": "python",
   "name": "python3"
  },
  "language_info": {
   "codemirror_mode": {
    "name": "ipython",
    "version": 3
   },
   "file_extension": ".py",
   "mimetype": "text/x-python",
   "name": "python",
   "nbconvert_exporter": "python",
   "pygments_lexer": "ipython3",
   "version": "3.6.5"
  }
 },
 "nbformat": 4,
 "nbformat_minor": 2
}
